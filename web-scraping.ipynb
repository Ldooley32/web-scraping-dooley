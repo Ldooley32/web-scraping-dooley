{
 "cells": [
  {
   "cell_type": "markdown",
   "metadata": {},
   "source": [
    "# Web Mining and Applied NLP (44-620)\n",
    "\n",
    "## Web Scraping and NLP with Requests, BeautifulSoup, and spaCy\n",
    "\n",
    "### Student Name: Laura Dooley \n",
    "### GitHub repo: https://github.com/Ldooley32/web-scraping-dooley\n",
    "\n",
    "\n",
    "\n",
    "Perform the tasks described in the Markdown cells below.  When you have completed the assignment make sure your code cells have all been run (and have output beneath them) and ensure you have committed and pushed ALL of your changes to your assignment repository.\n",
    "\n",
    "Every question that requires you to write code will have a code cell underneath it; you may either write your entire solution in that cell or write it in a python file (`.py`), then import and run the appropriate code to answer the question."
   ]
  },
  {
   "cell_type": "code",
   "execution_count": 1,
   "metadata": {},
   "outputs": [
    {
     "name": "stdout",
     "output_type": "stream",
     "text": [
      "Package                   Version\n",
      "------------------------- --------------\n",
      "annotated-types           0.7.0\n",
      "anyio                     4.6.2.post1\n",
      "argon2-cffi               23.1.0\n",
      "argon2-cffi-bindings      21.2.0\n",
      "arrow                     1.3.0\n",
      "asttokens                 2.4.1\n",
      "async-lru                 2.0.4\n",
      "attrs                     24.2.0\n",
      "babel                     2.16.0\n",
      "beautifulsoup4            4.12.3\n",
      "bleach                    6.2.0\n",
      "blis                      1.0.1\n",
      "catalogue                 2.0.10\n",
      "certifi                   2024.8.30\n",
      "cffi                      1.17.1\n",
      "charset-normalizer        3.4.0\n",
      "click                     8.1.7\n",
      "cloudpathlib              0.20.0\n",
      "colorama                  0.4.6\n",
      "comm                      0.2.2\n",
      "confection                0.1.5\n",
      "contourpy                 1.3.1\n",
      "cycler                    0.12.1\n",
      "cymem                     2.0.10\n",
      "debugpy                   1.8.9\n",
      "decorator                 5.1.1\n",
      "defusedxml                0.7.1\n",
      "executing                 2.1.0\n",
      "fastjsonschema            2.20.0\n",
      "fonttools                 4.55.0\n",
      "fqdn                      1.5.1\n",
      "h11                       0.14.0\n",
      "html5lib                  1.1\n",
      "httpcore                  1.0.7\n",
      "httpx                     0.27.2\n",
      "idna                      3.10\n",
      "ipykernel                 6.29.5\n",
      "ipython                   8.29.0\n",
      "isoduration               20.11.0\n",
      "jedi                      0.19.2\n",
      "Jinja2                    3.1.4\n",
      "joblib                    1.4.2\n",
      "json5                     0.10.0\n",
      "jsonpointer               3.0.0\n",
      "jsonschema                4.23.0\n",
      "jsonschema-specifications 2024.10.1\n",
      "jupyter_client            8.6.3\n",
      "jupyter_core              5.7.2\n",
      "jupyter-events            0.10.0\n",
      "jupyter-lsp               2.2.5\n",
      "jupyter_server            2.14.2\n",
      "jupyter_server_terminals  0.5.3\n",
      "jupyterlab                4.3.1\n",
      "jupyterlab_pygments       0.3.0\n",
      "jupyterlab_server         2.27.3\n",
      "kiwisolver                1.4.7\n",
      "langcodes                 3.5.0\n",
      "language_data             1.3.0\n",
      "marisa-trie               1.2.1\n",
      "markdown-it-py            3.0.0\n",
      "MarkupSafe                3.0.2\n",
      "matplotlib                3.9.2\n",
      "matplotlib-inline         0.1.7\n",
      "mdurl                     0.1.2\n",
      "mistune                   3.0.2\n",
      "murmurhash                1.0.11\n",
      "nbclient                  0.10.0\n",
      "nbconvert                 7.16.4\n",
      "nbformat                  5.10.4\n",
      "nest-asyncio              1.6.0\n",
      "nltk                      3.9.1\n",
      "notebook_shim             0.2.4\n",
      "numpy                     2.0.2\n",
      "overrides                 7.7.0\n",
      "packaging                 24.2\n",
      "pandas                    2.2.3\n",
      "pandocfilters             1.5.1\n",
      "parso                     0.8.4\n",
      "pillow                    11.0.0\n",
      "pip                       24.3.1\n",
      "platformdirs              4.3.6\n",
      "preshed                   3.0.9\n",
      "prometheus_client         0.21.0\n",
      "prompt_toolkit            3.0.48\n",
      "psutil                    6.1.0\n",
      "pure_eval                 0.2.3\n",
      "pycparser                 2.22\n",
      "pydantic                  2.10.2\n",
      "pydantic_core             2.27.1\n",
      "Pygments                  2.18.0\n",
      "pyparsing                 3.2.0\n",
      "python-dateutil           2.9.0.post0\n",
      "python-json-logger        2.0.7\n",
      "pytz                      2024.2\n",
      "pywin32                   308\n",
      "pywinpty                  2.0.14\n",
      "PyYAML                    6.0.2\n",
      "pyzmq                     26.2.0\n",
      "referencing               0.35.1\n",
      "regex                     2024.11.6\n",
      "requests                  2.32.3\n",
      "rfc3339-validator         0.1.4\n",
      "rfc3986-validator         0.1.1\n",
      "rich                      13.9.4\n",
      "rpds-py                   0.21.0\n",
      "Send2Trash                1.8.3\n",
      "setuptools                65.5.0\n",
      "shellingham               1.5.4\n",
      "six                       1.16.0\n",
      "smart-open                7.0.5\n",
      "sniffio                   1.3.1\n",
      "soupsieve                 2.6\n",
      "spacy                     3.8.2\n",
      "spacy-legacy              3.0.12\n",
      "spacy-loggers             1.0.5\n",
      "spacytextblob             5.0.0\n",
      "srsly                     2.4.8\n",
      "stack-data                0.6.3\n",
      "terminado                 0.18.1\n",
      "textblob                  0.18.0.post0\n",
      "thinc                     8.3.2\n",
      "tinycss2                  1.4.0\n",
      "tornado                   6.4.2\n",
      "tqdm                      4.67.1\n",
      "traitlets                 5.14.3\n",
      "typer                     0.13.1\n",
      "types-python-dateutil     2.9.0.20241003\n",
      "typing_extensions         4.12.2\n",
      "tzdata                    2024.2\n",
      "uri-template              1.3.0\n",
      "urllib3                   2.2.3\n",
      "wasabi                    1.1.3\n",
      "wcwidth                   0.2.13\n",
      "weasel                    0.4.1\n",
      "webcolors                 24.11.1\n",
      "webencodings              0.5.1\n",
      "websocket-client          1.8.0\n",
      "wrapt                     1.17.0\n",
      "All prereqs installed.\n"
     ]
    }
   ],
   "source": [
    "from collections import Counter\n",
    "import pickle\n",
    "import requests\n",
    "import spacy\n",
    "from bs4 import BeautifulSoup\n",
    "import matplotlib.pyplot as plt\n",
    "\n",
    "!pip list\n",
    "\n",
    "print('All prereqs installed.')"
   ]
  },
  {
   "cell_type": "markdown",
   "metadata": {},
   "source": [
    "1. Write code that extracts the article html from https://web.archive.org/web/20210327165005/https://hackaday.com/2021/03/22/how-laser-headlights-work/ and dumps it to a .pkl (or other appropriate file)"
   ]
  },
  {
   "cell_type": "code",
   "execution_count": 13,
   "metadata": {},
   "outputs": [
    {
     "name": "stdout",
     "output_type": "stream",
     "text": [
      "HTML content successfully saved to article.pkl\n"
     ]
    }
   ],
   "source": [
    "\n",
    "# URL of the webpage to fetch\n",
    "url = \"https://web.archive.org/web/20210327165005/https://hackaday.com/2021/03/22/how-laser-headlights-work/\"\n",
    "\n",
    "# Fetch the webpage\n",
    "response = requests.get(url)\n",
    "\n",
    "# Raise an error if the request fails\n",
    "response.raise_for_status()\n",
    "\n",
    "# Parse the HTML content using BeautifulSoup\n",
    "soup = BeautifulSoup(response.content, 'html.parser')\n",
    "\n",
    "# Convert the parsed HTML content to a string\n",
    "html_content = str(soup)\n",
    "\n",
    "# File name to save the HTML content\n",
    "filename = \"article.pkl\"\n",
    "\n",
    "# Save the HTML content to a .pkl file\n",
    "with open(filename, 'wb') as f:\n",
    "    pickle.dump(html_content, f)\n",
    "\n",
    "print(f\"HTML content successfully saved to {filename}\")\n"
   ]
  },
  {
   "cell_type": "markdown",
   "metadata": {},
   "source": [
    "2. Read in your article's html source from the file you created in question 1 and print it's text (use `.get_text()`)"
   ]
  },
  {
   "cell_type": "code",
   "execution_count": 16,
   "metadata": {},
   "outputs": [
    {
     "name": "stdout",
     "output_type": "stream",
     "text": [
      "When we think about the onward march of automotive technology, headlights aren’t usually the first thing that come to mind. Engines, fuel efficiency, and the switch to electric power are all more front of mind. However, that doesn’t mean there aren’t thousands of engineers around the world working to improve the state of the art in automotive lighting day in, day out.\n",
      "\n",
      "\n",
      "Sealed beam headlights gave way to more modern designs once regulations loosened up, while bulbs moved from simple halogens to xenon HIDs and, more recently, LEDs. Now, a new technology is on the scene, with lasers!\n",
      "\n",
      "\n",
      "\n",
      "\n",
      "Laser Headlights?!\n",
      "\n",
      "\n",
      "BWM’s prototype laser headlight assemblies undergoing testing.\n",
      "\n",
      "\n",
      "The first image brought to mind by the phrase “laser headlights” is that of laser beams firing out the front of an automobile. Obviously, coherent beams of monochromatic light would make for poor illumination outside of a very specific spot quite some distance away. Thankfully for our eyes, laser headlights don’t work in this way at all.\n",
      "\n",
      "\n",
      "Instead, laser headlights consist of one or more solid state laser diodes mounted inside the headlight. These blue lasers are fired at a yellow phosphor, similar to that used in white LEDs. This produces a powerful, vibrant white light that can then be bounced off reflectors and out of the headlights towards the road. Laser headlights built in this way have several benefits. They’re more energy efficient than LEDs that put out the same amount of light, while also being more space efficient, too.\n",
      "\n",
      "\n",
      "BWM’s futuristic i8 was one of the first vehicles to ship with laser headlight technology.\n",
      "\n",
      "\n",
      "Laser headlights are still a nascent technology, thus far only appearing in a few BMW, Audi, and other select vehicles. \n",
      "BMW’s technology was developed in partnership with lighting experts OSRAM\n",
      ". In practice, a regular LED low-beam lamp is used, with the laser used to create an incredibly bright and focused spot, used for high-beams. This can provide illumination out to 600 meters ahead of the vehicle, double that of conventional LED high beams. The lights use indium gallium nitride diode lasers that were originally used in projectors, with power levels above 1 watt. One of the challenges in implementing such technology in an automotive environment is the need for it to operate at temperature extremes. While research lasers and laser pointers may primarily be used at typical room temperatures, automotive headlights must be able to withstand everything from 40 degrees below zero up to 50 degrees C. Thankfully, the laser’s high efficiency means it doesn’t have huge heat output of its own to further complicate things. Other engineering challenges involve tailoring the optics package for the rough-and-tumble, high vibration environment found in the automotive application. It’s also important to ensure, as with any such device, that the end user can’t be exposed to harmful laser radiation in the event of accident or malfunction.\n",
      "\n",
      "\n",
      "Tearing Down the Laser Headlight\n",
      "\n",
      "\n",
      "A marketing image showing the construction of an aftermarket LED/laser headlight. We’d take the laser power with a grain of salt — it’s difficult to imagine a 10 W laser shining directly on some small LEDs without melting a hole through the board in short order.\n",
      "\n",
      "\n",
      "An aftermarket has sprung up too, with delightfully innovative designs. Combined laser/LED headlights are readily available on Alibaba, \n",
      "designed as a drop in replacement for projector lamps on existing vehicles.\n",
      " These often use an LED low-beam, and a combined LED/laser high beam, where the laser diode shoots directly at the LED phosphor to excite it further, rather than using its own. These units often also come with fan cooling to keep the laser and LEDs below their maximum operational temperature. Such developments are exciting, though it’s important to be wary of the performance of unknown aftermarket headlights. \n",
      "Many aftermarket LED headlight “upgrades” fail to pass muster\n",
      " when it comes to real-world performance, and there’s no reason to believe hybrid LED/laser designs will be any different. We’d love to pass a selection of these parts through \n",
      "a full IIHS test protocol\n",
      ", but that’s sadly beyond the scope (and budget!) of this article.\n",
      "\n",
      "\n",
      "However, [mikeselectricstuff] has happened to lay his hands on both the BMW and aftermarket parts, \n",
      "tearing them all down in his workshop to see what makes them tick.\n",
      " The differences are multitude when laid bare on the bench. The AliExpress part is relatively simple, wired up no differently from a regular headlight. Interestingly, however, the laser high-beam circuit runs all the time in these parts. To prevent blinding other road users, a shutter is kept in place to block the light, which is moved out of the way with a solenoid when the driver turns on the high beam switch.\n",
      "\n",
      "\n",
      "Where the aftermarket part is a little out of left field, the BMW design is another thing entirely. The cutting-edge headlights are hooked up with multiple connectors and over 30 conductors, with much of the driver electronics living in an external controller. Much of this is to drive the various LEDs and stepper motors for slewing the headlights when steering. However, the laser assembly brings its own complexities. Twin light sensors are built inside to monitor the laser beam, and a special metal blocking arm sits directly in front of the diode, presumably to stop the laser light leaving the headlight in the event the phosphor coating burns through. It’s truly wild to get a look inside a modern luxury car’s headlight and see just how far we’ve come from the old days of simple sealed beams.\n",
      "\n",
      "\n",
      "Cost Versus Performance\n",
      "\n",
      "\n",
      "Despite the efficiency gains available, the technology remains expensive. Powerful laser diodes don’t come cheap, after all. However, as the technology trickles down to lower-end models, it’s likely that we could see economies of scale change that for the better. Indeed, if national authorities begin to demand higher performance headlights as standard, we could see laser headlights become the norm, rather than an expensive luxury. The technology could naturally be applied to home and commercial lighting, too — though we suspect the potential gains are limited enough that LED lighting will remain the norm for some time to come.\n",
      "\n",
      "\n",
      "The high light output of laser headlights in a compact package allows engineers greater freedom when designing the front-end of a car.\n",
      "\n",
      "\n",
      "As it currently stands, much of the appeal of the new technology is about the packaging benefits, which allow automotive designers greater freedom around the headlight area. Such concerns are less of a factor when it comes to light fittings in the home or office, or indeed, on lower-end automobiles. Regardless, it’s an exciting new application for lasers and one we’ll be sure to see more of in the future.\n"
     ]
    }
   ],
   "source": [
    "# File path to the saved HTML content\n",
    "file_path = \"article.pkl\"\n",
    "\n",
    "# Load the HTML content from the .pkl file\n",
    "with open(file_path, \"rb\") as file:\n",
    "    article_html = pickle.load(file)\n",
    "\n",
    "# Parse the HTML using BeautifulSoup\n",
    "soup = BeautifulSoup(article_html, \"html.parser\")\n",
    "\n",
    "# Locate the specific div containing the article content\n",
    "article = soup.find('div', class_='entry-content')\n",
    "\n",
    "# Extract and print the plain text from the article, if found\n",
    "text_only = article.get_text(separator=\"\\n\").strip() if article else \"Content not found\"\n",
    "print(text_only)\n"
   ]
  },
  {
   "cell_type": "markdown",
   "metadata": {},
   "source": [
    "3. Load the article text into a trained `spaCy` pipeline, and determine the 5 most frequent tokens (converted to lower case).  Print the common tokens with an appropriate label.  Additionally, print the tokens their frequencies (with appropriate labels). Make sure to remove things we don't care about (punctuation, stopwords, whitespace)."
   ]
  },
  {
   "cell_type": "code",
   "execution_count": 19,
   "metadata": {},
   "outputs": [
    {
     "name": "stdout",
     "output_type": "stream",
     "text": [
      "Top 5 Most Frequent Tokens and Their Frequencies:\n",
      "Token: 'laser', Frequency: 30\n",
      "Token: 'headlights', Frequency: 17\n",
      "Token: 'technology', Frequency: 10\n",
      "Token: 'headlight', Frequency: 10\n",
      "Token: 'led', Frequency: 10\n"
     ]
    }
   ],
   "source": [
    "# Load the spaCy language model\n",
    "nlp = spacy.load(\"en_core_web_sm\")\n",
    "\n",
    "# Process the text with spaCy\n",
    "doc = nlp(text_only)\n",
    "\n",
    "# Filter tokens: remove punctuation, stopwords, and whitespace\n",
    "filtered_tokens = [\n",
    "    token.text.lower() for token in doc\n",
    "    if not token.is_stop and not token.is_punct and not token.is_space\n",
    "]\n",
    "\n",
    "# Count token frequencies\n",
    "token_counts = Counter(filtered_tokens)\n",
    "\n",
    "# Get the 5 most common tokens\n",
    "most_common_tokens = token_counts.most_common(5)\n",
    "\n",
    "# Print results\n",
    "print(\"Top 5 Most Frequent Tokens and Their Frequencies:\")\n",
    "for token, freq in most_common_tokens:\n",
    "    print(f\"Token: '{token}', Frequency: {freq}\")"
   ]
  },
  {
   "cell_type": "markdown",
   "metadata": {},
   "source": [
    "4. Load the article text into a trained `spaCy` pipeline, and determine the 5 most frequent lemmas (converted to lower case).  Print the common lemmas with an appropriate label.  Additionally, print the lemmas with their frequencies (with appropriate labels). Make sure to remove things we don't care about (punctuation, stopwords, whitespace)."
   ]
  },
  {
   "cell_type": "code",
   "execution_count": 21,
   "metadata": {},
   "outputs": [
    {
     "name": "stdout",
     "output_type": "stream",
     "text": [
      "Top 5 Most Frequent Lemmas and Their Frequencies:\n",
      "Lemma: 'laser', Frequency: 35\n",
      "Lemma: 'headlight', Frequency: 26\n",
      "Lemma: 'beam', Frequency: 12\n",
      "Lemma: 'technology', Frequency: 10\n",
      "Lemma: 'led', Frequency: 10\n"
     ]
    }
   ],
   "source": [
    "\n",
    "\n",
    "# Filter tokens: remove punctuation, stopwords, and whitespace, keeping lemmatized forms\n",
    "filtered_lemmas = [\n",
    "    token.lemma_.lower() for token in doc\n",
    "    if not token.is_stop and not token.is_punct and not token.is_space\n",
    "]\n",
    "\n",
    "# Count lemma frequencies\n",
    "lemma_counts = Counter(filtered_lemmas)\n",
    "\n",
    "# Get the 5 most common lemmas\n",
    "most_common_lemmas = lemma_counts.most_common(5)\n",
    "\n",
    "# Print results\n",
    "print(\"Top 5 Most Frequent Lemmas and Their Frequencies:\")\n",
    "for lemma, freq in most_common_lemmas:\n",
    "    print(f\"Lemma: '{lemma}', Frequency: {freq}\")"
   ]
  },
  {
   "cell_type": "markdown",
   "metadata": {},
   "source": [
    "5. Define the following methods:\n",
    "    * `score_sentence_by_token(sentence, interesting_token)` that takes a sentence and a list of interesting token and returns the number of times that any of the interesting words appear in the sentence divided by the number of words in the sentence\n",
    "    * `score_sentence_by_lemma(sentence, interesting_lemmas)` that takes a sentence and a list of interesting lemmas and returns the number of times that any of the interesting lemmas appear in the sentence divided by the number of words in the sentence\n",
    "    \n",
    "You may find some of the code from the in class notes useful; feel free to use methods (rewrite them in this cell as well).  Test them by showing the score of the first sentence in your article using the frequent tokens and frequent lemmas identified in question 3."
   ]
  },
  {
   "cell_type": "code",
   "execution_count": null,
   "metadata": {},
   "outputs": [
    {
     "name": "stdout",
     "output_type": "stream",
     "text": [
      "First sentence: 'When we think about the onward march of automotive technology, headlights aren’t usually the first thing that come to mind.'\n",
      "Token score: 0.09523809523809523\n",
      "Lemma score: 0.09523809523809523\n"
     ]
    }
   ],
   "source": [
    "# Load the spaCy language model\n",
    "nlp = spacy.load(\"en_core_web_sm\")\n",
    "\n",
    "# Method to score sentence by token\n",
    "def score_sentence_by_token(sentence, interesting_tokens):\n",
    "    # Process the sentence using spaCy\n",
    "    doc = nlp(sentence)\n",
    "    \n",
    "    # Get the word list lowe case word (excluding punctuation and spaces)\n",
    "    words = [token.text.lower() for token in doc if not token.is_punct and not token.is_space]\n",
    "    \n",
    "    # Count how many interesting tokens appear in the sentence\n",
    "    token_count = sum(1 for word in words if word in interesting_tokens)\n",
    "    \n",
    "    # Return the ratio of interesting tokens to total words in the sentence\n",
    "    return token_count / len(words) if words else 0\n",
    "\n",
    "# Method to score sentence by lemma\n",
    "def score_sentence_by_lemma(sentence, interesting_lemmas):\n",
    "    # Process the sentence using spaCy\n",
    "    doc = nlp(sentence)\n",
    "    \n",
    "    # Get the lemma list in sentence (excluding punctuation and spaces)\n",
    "    lemmata = [token.lemma_.lower() for token in doc if not token.is_punct and not token.is_space]\n",
    "    \n",
    "    # Count how many interesting lemmas appear in the sentence\n",
    "    lemma_count = sum(1 for lemma in lemmata if lemma in interesting_lemmas)\n",
    "    \n",
    "    # Return the ratio of interesting lemmas to total words in the sentence\n",
    "    return lemma_count / len(lemmata) if lemmata else 0\n",
    "\n",
    "interesting_tokens = [\"laser\", \"headlights\", \"technology\", \"headlight\", \"led\"]\n",
    "\n",
    "interesting_lemmas = [\"laser\", \"headlight\", \"beam\", \"technology\", \"led\"]\n",
    "\n",
    "sentences = [sent.text.strip() for sent in doc.sents]\n",
    "\n",
    "first_sentence = sentences [0]\n",
    "\n",
    "token_score = score_sentence_by_token(first_sentence, interesting_tokens)\n",
    "lemma_score = score_sentence_by_lemma(first_sentence, interesting_lemmas)\n",
    "\n",
    "print(f\"First sentence: '{first_sentence}'\")\n",
    "print(f\"Token score: {token_score}\")\n",
    "print(f\"Lemma score: {lemma_score}\")\n",
    "\n"
   ]
  },
  {
   "cell_type": "markdown",
   "metadata": {},
   "source": [
    "6. Make a list containing the scores (using tokens) of every sentence in the article, and plot a histogram with appropriate titles and axis labels of the scores. From your histogram, what seems to be the most common range of scores (put the answer in a comment after your code)?"
   ]
  },
  {
   "cell_type": "code",
   "execution_count": 24,
   "metadata": {},
   "outputs": [
    {
     "data": {
      "image/png": "[encoded data removed]",
      "text/plain": [
       "<Figure size 640x480 with 1 Axes>"
      ]
     },
     "metadata": {},
     "output_type": "display_data"
    }
   ],
   "source": [
    "# Process the text into sentences\n",
    "doc = nlp(text_only)\n",
    "sentences = [sent.text.strip() for sent in doc.sents]\n",
    "\n",
    "# Calculate scores for each sentence\n",
    "sentence_scores = [score_sentence_by_token(sentence, interesting_tokens) for sentence in sentences]\n",
    "\n",
    "# Plot the histogram\n",
    "plt.hist(sentence_scores, bins=10, edgecolor='black', alpha=0.7)  \n",
    "plt.title(\"Frequency of Sentence Scores Using Tokens\")  \n",
    "plt.xlabel(\"Score\")  \n",
    "plt.ylabel(\"Frequency\")  \n",
    "plt.grid(axis='y', alpha=0.75)  \n",
    "plt.show()"
   ]
  },
  {
   "cell_type": "markdown",
   "metadata": {},
   "source": [
    "7. Make a list containing the scores (using lemmas) of every sentence in the article, and plot a histogram with appropriate titles and axis labels of the scores.  From your histogram, what seems to be the most common range of scores (put the answer in a comment after your code)?"
   ]
  },
  {
   "cell_type": "code",
   "execution_count": 25,
   "metadata": {},
   "outputs": [
    {
     "data": {
      "image/png": "[encoded data removed]",
      "text/plain": [
       "<Figure size 640x480 with 1 Axes>"
      ]
     },
     "metadata": {},
     "output_type": "display_data"
    }
   ],
   "source": [
    "# Calculate scores for each sentence\n",
    "lemma_sentence_scores = [score_sentence_by_lemma(sentence, interesting_lemmas) for sentence in sentences]\n",
    "\n",
    "# Plot the histogram\n",
    "plt.hist(lemma_sentence_scores, bins=10, edgecolor='black', alpha=0.7)  \n",
    "plt.title(\"Frequency of Sentence Scores Using Lemmas\")  \n",
    "plt.xlabel(\"Score\")  \n",
    "plt.ylabel(\"Frequency\")  \n",
    "plt.grid(axis='y', alpha=0.75)  \n",
    "plt.show()\n"
   ]
  },
  {
   "cell_type": "markdown",
   "metadata": {},
   "source": [
    "8. Which tokens and lexems would be ommitted from the lists generated in questions 3 and 4 if we only wanted to consider nouns as interesting words?  How might we change the code to only consider nouns? Put your answer in this Markdown cell (you can edit it by double clicking it).\n",
    "\n",
    "### To only include nouns code change:\n",
    "\n",
    "Updated Code for Tokens:\n",
    "#Filter out stop words, punctuation, whitespace, and include only nouns\n",
    "tokens_nouns = [\n",
    "    token.text.lower()\n",
    "    for token in doc\n",
    "    if not token.is_stop and not token.is_punct and not token.is_space and token.pos_ in [\"NOUN\", \"PROPN\"]\n",
    "]\n",
    "\n",
    "\n",
    "#Filter out stop words, punctuation, whitespace, and include only nouns\n",
    "lemmas_nouns = [\n",
    "    token.lemma_.lower()\n",
    "    for token in doc\n",
    "    if not token.is_stop and not token.is_punct and not token.is_space and token.pos_ in [\"NOUN\", \"PROPN\"]\n",
    "]"
   ]
  },
  {
   "cell_type": "markdown",
   "metadata": {},
   "source": [
    "### If question 3 called for 5 most frequent noun tokens "
   ]
  },
  {
   "cell_type": "code",
   "execution_count": 26,
   "metadata": {},
   "outputs": [
    {
     "name": "stdout",
     "output_type": "stream",
     "text": [
      "Top 5 Most Frequent Tokens and Their Frequencies:\n",
      "Token: 'laser', Frequency: 30\n",
      "Token: 'headlights', Frequency: 17\n",
      "Token: 'technology', Frequency: 10\n",
      "Token: 'headlight', Frequency: 9\n",
      "Token: 'beam', Frequency: 7\n"
     ]
    }
   ],
   "source": [
    "#Filter out stop words, punctuation, whitespace, and include only nouns\n",
    "tokens_nouns = [\n",
    "    token.text.lower()\n",
    "    for token in doc\n",
    "    if not token.is_stop and not token.is_punct and not token.is_space and token.pos_ in [\"NOUN\", \"PROPN\"]\n",
    "]\n",
    "# Count token frequencies\n",
    "token_counts = Counter(tokens_nouns)\n",
    "\n",
    "# Get the 5 most common tokens\n",
    "most_common_tokens = token_counts.most_common(5)\n",
    "\n",
    "# Print results\n",
    "print(\"Top 5 Most Frequent Tokens and Their Frequencies:\")\n",
    "for token, freq in most_common_tokens:\n",
    "    print(f\"Token: '{token}', Frequency: {freq}\")"
   ]
  },
  {
   "cell_type": "markdown",
   "metadata": {},
   "source": [
    "### If question 4 called for 5 most frequent noun lemmas "
   ]
  },
  {
   "cell_type": "code",
   "execution_count": 27,
   "metadata": {},
   "outputs": [
    {
     "name": "stdout",
     "output_type": "stream",
     "text": [
      "Top 5 Most Frequent Lemmas and Their Frequencies:\n",
      "Lemma: 'laser', Frequency: 35\n",
      "Lemma: 'headlight', Frequency: 25\n",
      "Lemma: 'beam', Frequency: 12\n",
      "Lemma: 'technology', Frequency: 10\n",
      "Lemma: 'led', Frequency: 10\n"
     ]
    }
   ],
   "source": [
    "#Filter out stop words, punctuation, whitespace, and include only nouns\n",
    "lemmas_nouns = [\n",
    "    token.lemma_.lower()\n",
    "    for token in doc\n",
    "    if not token.is_stop and not token.is_punct and not token.is_space and token.pos_ in [\"NOUN\", \"PROPN\"]\n",
    "]\n",
    "\n",
    "# Count lemma frequencies\n",
    "lemma_counts = Counter(lemmas_nouns)\n",
    "\n",
    "# Get the 5 most common lemmas\n",
    "most_common_lemmas = lemma_counts.most_common(5)\n",
    "\n",
    "# Print results\n",
    "print(\"Top 5 Most Frequent Lemmas and Their Frequencies:\")\n",
    "for lemma, freq in most_common_lemmas:\n",
    "    print(f\"Lemma: '{lemma}', Frequency: {freq}\")"
   ]
  },
  {
   "cell_type": "code",
   "execution_count": 28,
   "metadata": {},
   "outputs": [
    {
     "name": "stderr",
     "output_type": "stream",
     "text": [
      "[NbConvertApp] Converting notebook web-scraping.ipynb to html\n",
      "[NbConvertApp] WARNING | Alternative text is missing on 2 image(s).\n",
      "[NbConvertApp] Writing 380122 bytes to web-scraping.html\n"
     ]
    }
   ],
   "source": [
    "!jupyter nbconvert --to html web-scraping.ipynb"
   ]
  }
 ],
 "metadata": {
  "kernelspec": {
   "display_name": "venv",
   "language": "python",
   "name": "python3"
  },
  "language_info": {
   "codemirror_mode": {
    "name": "ipython",
    "version": 3
   },
   "file_extension": ".py",
   "mimetype": "text/x-python",
   "name": "python",
   "nbconvert_exporter": "python",
   "pygments_lexer": "ipython3",
   "version": "3.11.9"
  }
 },
 "nbformat": 4,
 "nbformat_minor": 4
}
